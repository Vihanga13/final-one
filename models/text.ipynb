{
 "cells": [
  {
   "cell_type": "code",
   "execution_count": 8,
   "id": "1fd185ea",
   "metadata": {},
   "outputs": [
    {
     "name": "stdout",
     "output_type": "stream",
     "text": [
      "          ImageName\n",
      "0        beatroot/1\n",
      "1       beatroot/10\n",
      "2      beatroot/100\n",
      "3       beatroot/11\n",
      "4       beatroot/12\n",
      "...             ...\n",
      "22383  white_rice/5\n",
      "22384  white_rice/6\n",
      "22385  white_rice/7\n",
      "22386  white_rice/8\n",
      "22387  white_rice/9\n",
      "\n",
      "[22388 rows x 1 columns]\n"
     ]
    }
   ],
   "source": [
    "import pandas as pd\n",
    "import os\n",
    "from pathlib import Path\n",
    "\n",
    "def get_image_names_as_dataframe(folder_path):\n",
    "    image_extensions = ('.jpg', '.jpeg', '.png', '.gif', '.bmp')\n",
    "    image_data = []\n",
    "\n",
    "    folder = Path(folder_path)\n",
    "    try:\n",
    "        for subfolder in folder.iterdir():\n",
    "            if subfolder.is_dir():\n",
    "                for filename in os.listdir(subfolder):\n",
    "                    if filename.lower().endswith(image_extensions):\n",
    "                        class_name = subfolder.name\n",
    "                        image_id = Path(filename).stem\n",
    "                        image_data.append({'ImageName': f\"{class_name}/{image_id}\"})\n",
    "        return pd.DataFrame(image_data)\n",
    "    except FileNotFoundError:\n",
    "        print(f\"Error: Folder '{folder}' not found.\")\n",
    "        return pd.DataFrame()\n",
    "    except Exception as e:\n",
    "        print(f\"An error occurred: {e}\")\n",
    "        return pd.DataFrame()\n",
    "\n",
    "# Example usage:\n",
    "folder_path = r\"C:\\Users\\vihan\\Desktop\\Dataset\"\n",
    "image_df = get_image_names_as_dataframe(folder_path)\n",
    "print(image_df)"
   ]
  },
  {
   "cell_type": "code",
   "execution_count": null,
   "id": "3920b1e9",
   "metadata": {},
   "outputs": [],
   "source": [
    "# Save image names to a text file (one per line)\n",
    "#image_df.to_csv('image_names_new.txt', index=False, header=False)"
   ]
  },
  {
   "cell_type": "code",
   "execution_count": 14,
   "id": "b262ca30",
   "metadata": {},
   "outputs": [],
   "source": [
    "from sklearn.model_selection import train_test_split\n",
    "\n",
    "# Get the list of image names\n",
    "image_names = image_df['ImageName'].tolist()\n",
    "\n",
    "# Split into 80% train, 20% test (adjust test_size as needed)\n",
    "train_names, test_names = train_test_split(image_names, test_size=0.2, random_state=42, shuffle=True)\n",
    "\n",
    "# Save to text files\n",
    "with open('train_names.txt', 'w') as f:\n",
    "    for name in train_names:\n",
    "        f.write(f\"{name}\\n\")\n",
    "\n",
    "with open('test_names.txt', 'w') as f:\n",
    "    for name in test_names:\n",
    "        f.write(f\"{name}\\n\")"
   ]
  },
  {
   "cell_type": "code",
   "execution_count": 5,
   "id": "e5cc774a",
   "metadata": {},
   "outputs": [
    {
     "name": "stdout",
     "output_type": "stream",
     "text": [
      "['beatroot', 'beef_carpaccio', 'beef_tartare', 'beet_salad', 'cheese_plate', 'cheesecake', 'chicken_curry', 'chicken_wings', 'deviled_eggs', 'dhal', 'donuts', 'eggs_benedict', 'fish_and_chips', 'french_fries', 'fried_egg', 'grilled_salmon', 'hot_dog', 'ice_cream', 'kottu', 'lasagna', 'macaroni_and_cheese', 'omelette', 'pork_chop', 'red_rice', 'samosa', 'steak', 'sushi', 'white_rice']\n"
     ]
    }
   ],
   "source": [
    "# Read the file and extract class names\n",
    "with open(r\"C:\\Users\\vihan\\projects\\final-one\\models\\image_names_new.txt\", \"r\") as f:\n",
    "    lines = f.read().splitlines()\n",
    "\n",
    "# Extract class names (the part before '/')\n",
    "class_names = [line.split('/')[0] for line in lines]\n",
    "\n",
    "# Get unique class names\n",
    "unique_class_names = sorted(set(class_names))\n",
    "\n",
    "print(unique_class_names)"
   ]
  },
  {
   "cell_type": "code",
   "execution_count": 6,
   "id": "dcc19852",
   "metadata": {},
   "outputs": [
    {
     "name": "stdout",
     "output_type": "stream",
     "text": [
      "Saved unique class names to classes.txt\n"
     ]
    }
   ],
   "source": [
    "# Write unique class names to a text file, one per line\n",
    "with open(r\"C:\\Users\\vihan\\projects\\final-one\\models\\classes_new.txt\", \"w\") as f:\n",
    "    for name in unique_class_names:\n",
    "        f.write(f\"{name}\\n\")\n",
    "\n",
    "print(\"Saved unique class names to classes.txt\")"
   ]
  },
  {
   "cell_type": "code",
   "execution_count": null,
   "id": "3cf2773b",
   "metadata": {},
   "outputs": [],
   "source": []
  }
 ],
 "metadata": {
  "kernelspec": {
   "display_name": "Python 3",
   "language": "python",
   "name": "python3"
  },
  "language_info": {
   "codemirror_mode": {
    "name": "ipython",
    "version": 3
   },
   "file_extension": ".py",
   "mimetype": "text/x-python",
   "name": "python",
   "nbconvert_exporter": "python",
   "pygments_lexer": "ipython3",
   "version": "3.13.2"
  }
 },
 "nbformat": 4,
 "nbformat_minor": 5
}
